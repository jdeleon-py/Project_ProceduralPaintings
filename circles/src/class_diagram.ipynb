{
 "cells": [
  {
   "cell_type": "code",
   "execution_count": 1,
   "metadata": {},
   "outputs": [],
   "source": [
    "# demonstrate a class diagram where multiple inheritances and compositions are present"
   ]
  },
  {
   "cell_type": "code",
   "execution_count": null,
   "metadata": {},
   "outputs": [],
   "source": []
  },
  {
   "cell_type": "code",
   "execution_count": 11,
   "metadata": {},
   "outputs": [],
   "source": [
    "class Agent:\n",
    "    def __init__(self):\n",
    "        self.x = 1\n",
    "    \n",
    "    def agent_func(self):\n",
    "        print(\"This is an agent function!\")\n",
    "\n",
    "\n",
    "class Shape(Agent):\n",
    "    def __init__(self):\n",
    "        Agent.__init__(self)\n",
    "        self.x = 2\n",
    "    \n",
    "    def shape_func(self):\n",
    "        print(\"This is a shape function!\")\n",
    "\n",
    "\n",
    "class Image:\n",
    "    def __init__(self):\n",
    "        self.x = 3\n",
    "    \n",
    "    def image_func(self):\n",
    "        print(\"This is an image function!\")\n",
    "\n",
    "\n",
    "class Population:\n",
    "    def __init__(self):\n",
    "        self.x = 4\n",
    "        self.image = Image()\n",
    "    \n",
    "    def population_func(self):\n",
    "        print(\"This is a population function!\")\n",
    "\n",
    "\n",
    "class Painting(Population):\n",
    "    def __init__(self):\n",
    "        Population.__init__(self)\n",
    "        self.shapes = [Shape() for _ in range(0, 10)]\n",
    "        self.x = 5\n",
    "    \n",
    "    def painting_func(self):\n",
    "        print(\"This is a painting function!\")\n",
    "\n",
    "\n",
    "if __name__ == \"__main__\":\n",
    "    painting = Painting()\n",
    "    population = Population()"
   ]
  },
  {
   "cell_type": "code",
   "execution_count": 10,
   "metadata": {},
   "outputs": [
    {
     "name": "stdout",
     "output_type": "stream",
     "text": [
      "This is an agent function!\n"
     ]
    }
   ],
   "source": [
    "population."
   ]
  },
  {
   "cell_type": "code",
   "execution_count": null,
   "metadata": {},
   "outputs": [],
   "source": []
  }
 ],
 "metadata": {
  "kernelspec": {
   "display_name": "proc_paintings_env",
   "language": "python",
   "name": "proc_paintings_env"
  },
  "language_info": {
   "codemirror_mode": {
    "name": "ipython",
    "version": 3
   },
   "file_extension": ".py",
   "mimetype": "text/x-python",
   "name": "python",
   "nbconvert_exporter": "python",
   "pygments_lexer": "ipython3",
   "version": "3.8.11"
  }
 },
 "nbformat": 4,
 "nbformat_minor": 4
}
