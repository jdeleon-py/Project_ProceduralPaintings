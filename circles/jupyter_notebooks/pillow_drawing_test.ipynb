{
 "cells": [
  {
   "cell_type": "code",
   "execution_count": 1,
   "metadata": {},
   "outputs": [],
   "source": [
    "# In this notebook, I want to test out the pillow module as a potential more\n",
    "# robust method for drawing images and saving them.\n",
    "\n",
    "# I hope to automatically draw an 'n' number of paintings, then to save them all\n",
    "# With each generation, a painting will be drawn, then saved. The genetic algorithm\n",
    "# will investigate the saved images with each generation."
   ]
  },
  {
   "cell_type": "code",
   "execution_count": null,
   "metadata": {},
   "outputs": [],
   "source": []
  },
  {
   "cell_type": "code",
   "execution_count": 44,
   "metadata": {},
   "outputs": [],
   "source": [
    "import random\n",
    "from PIL import Image, ImageDraw"
   ]
  },
  {
   "cell_type": "code",
   "execution_count": null,
   "metadata": {},
   "outputs": [],
   "source": []
  },
  {
   "cell_type": "code",
   "execution_count": 3,
   "metadata": {},
   "outputs": [],
   "source": [
    "im1 = Image.open(\"../lib/image.png\")\n",
    "im1.show()"
   ]
  },
  {
   "cell_type": "code",
   "execution_count": null,
   "metadata": {},
   "outputs": [],
   "source": []
  },
  {
   "cell_type": "code",
   "execution_count": 8,
   "metadata": {},
   "outputs": [],
   "source": [
    "# Drawing a new image -> test canvas with a white background\n",
    "img = Image.new('RGB', (300, 300), (255, 255, 255))\n",
    "img.show()"
   ]
  },
  {
   "cell_type": "code",
   "execution_count": null,
   "metadata": {},
   "outputs": [],
   "source": []
  },
  {
   "cell_type": "code",
   "execution_count": 77,
   "metadata": {},
   "outputs": [],
   "source": [
    "# Drawing a shape onto a new image -> circle on a white background\n",
    "# (x0, y0, x1, y1) -> by how much is x or y displaced from the origin (0, 0)\n",
    "\n",
    "width = 300\n",
    "height = 300\n",
    "radius = 100\n",
    "\n",
    "img = Image.new('RGB', (width, height), (255, 255, 255))\n",
    "draw = ImageDraw.Draw(img)\n",
    "draw.ellipse((0, 100, 200, 300), fill=(255, 0, 0))\n",
    "\n",
    "img.show()"
   ]
  },
  {
   "cell_type": "code",
   "execution_count": null,
   "metadata": {},
   "outputs": [],
   "source": []
  },
  {
   "cell_type": "code",
   "execution_count": null,
   "metadata": {},
   "outputs": [],
   "source": []
  },
  {
   "cell_type": "code",
   "execution_count": 43,
   "metadata": {},
   "outputs": [],
   "source": [
    "# Draw two shapes onto a new image\n",
    "# Allow for the shapes to be transparent in order for their\n",
    "# colors to overlap\n",
    "\n",
    "img = Image.new('RGB', (300, 300), (255, 255, 255))\n",
    "draw = ImageDraw.Draw(img, 'RGBA')\n",
    "draw.ellipse((50, 50, 200, 200), (255, 0, 0, 125))\n",
    "draw.ellipse((100, 100, 300, 300), (0, 255, 0, 125))\n",
    "draw.ellipse((0, 0, 100, 100), (0, 0, 255, 125))\n",
    "\n",
    "img.show()"
   ]
  },
  {
   "cell_type": "code",
   "execution_count": null,
   "metadata": {},
   "outputs": [],
   "source": []
  },
  {
   "cell_type": "code",
   "execution_count": 122,
   "metadata": {},
   "outputs": [],
   "source": [
    "# Develop a mechanism develop circles randomly onto a new image\n",
    "# such that a painting can be generated automatically\n",
    "\n",
    "# Old dataset, [<color>, <coordinates>, <radius>] = [(R,G,B,A), (x,y), r]\n",
    "\n",
    "# New dataset, [<color>, <coordinates>] = [(R,G,B,A), (x0, y0, x1, y1)]\n",
    "# - x0 must be less than x1\n",
    "# - y0 must be less than y1\n",
    "# the displacement between x0 -> x1 and y0 -> y1 must be equivalent\n",
    "\n",
    "width = 600\n",
    "height = 600\n",
    "\n",
    "RB = random.randint(0, 255)\n",
    "GB = random.randint(0, 255)\n",
    "BB = random.randint(0, 255)\n",
    "\n",
    "img = Image.new('RGB', (width, height), (255, 255, 255))\n",
    "draw = ImageDraw.Draw(img, 'RGBA')\n",
    "for _ in range(0, 100):\n",
    "    R = random.randint(0, 255)\n",
    "    G = random.randint(0, 255)\n",
    "    B = random.randint(0, 255)\n",
    "    A = random.randint(0, 255)\n",
    "\n",
    "    x0 = random.randint(-width, width * 2)\n",
    "    x1 = random.randint(x0, width * 2)\n",
    "    y0 = random.randint(-height, height * 2)\n",
    "    y1 = y0 + (x1 - x0) \n",
    "    draw.ellipse((x0, y0, x1, y1), (R, G, B, A))\n",
    "\n",
    "img.show()"
   ]
  },
  {
   "cell_type": "code",
   "execution_count": null,
   "metadata": {},
   "outputs": [],
   "source": []
  }
 ],
 "metadata": {
  "kernelspec": {
   "display_name": "proc_paintings_env",
   "language": "python",
   "name": "proc_paintings_env"
  },
  "language_info": {
   "codemirror_mode": {
    "name": "ipython",
    "version": 3
   },
   "file_extension": ".py",
   "mimetype": "text/x-python",
   "name": "python",
   "nbconvert_exporter": "python",
   "pygments_lexer": "ipython3",
   "version": "3.8.11"
  }
 },
 "nbformat": 4,
 "nbformat_minor": 4
}
