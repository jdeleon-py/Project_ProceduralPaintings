{
 "cells": [
  {
   "cell_type": "code",
   "execution_count": 1,
   "metadata": {},
   "outputs": [],
   "source": [
    "# In this notebook, I want to test out the pillow module as a potential more\n",
    "# robust method for drawing images and saving them.\n",
    "\n",
    "# I hope to automatically draw an 'n' number of paintings, then to save them all\n",
    "# With each generation, a painting will be drawn, then saved. The genetic algorithm\n",
    "# will investigate the saved images with each generation."
   ]
  },
  {
   "cell_type": "code",
   "execution_count": null,
   "metadata": {},
   "outputs": [],
   "source": []
  },
  {
   "cell_type": "code",
   "execution_count": 3,
   "metadata": {},
   "outputs": [],
   "source": [
    "import time\n",
    "import random\n",
    "import numpy as np\n",
    "from PIL import Image, ImageDraw"
   ]
  },
  {
   "cell_type": "code",
   "execution_count": null,
   "metadata": {},
   "outputs": [],
   "source": []
  },
  {
   "cell_type": "code",
   "execution_count": 3,
   "metadata": {},
   "outputs": [],
   "source": [
    "im1 = Image.open(\"../lib/image.png\")\n",
    "im1.show()"
   ]
  },
  {
   "cell_type": "code",
   "execution_count": null,
   "metadata": {},
   "outputs": [],
   "source": []
  },
  {
   "cell_type": "code",
   "execution_count": 8,
   "metadata": {},
   "outputs": [],
   "source": [
    "# Drawing a new image -> test canvas with a white background\n",
    "img = Image.new('RGB', (300, 300), (255, 255, 255))\n",
    "img.show()"
   ]
  },
  {
   "cell_type": "code",
   "execution_count": null,
   "metadata": {},
   "outputs": [],
   "source": []
  },
  {
   "cell_type": "code",
   "execution_count": 77,
   "metadata": {},
   "outputs": [],
   "source": [
    "# Drawing a shape onto a new image -> circle on a white background\n",
    "# (x0, y0, x1, y1) -> by how much is x or y displaced from the origin (0, 0)\n",
    "\n",
    "width = 300\n",
    "height = 300\n",
    "radius = 100\n",
    "\n",
    "img = Image.new('RGB', (width, height), (255, 255, 255))\n",
    "draw = ImageDraw.Draw(img)\n",
    "draw.ellipse((0, 100, 200, 300), fill=(255, 0, 0))\n",
    "\n",
    "img.show()"
   ]
  },
  {
   "cell_type": "code",
   "execution_count": null,
   "metadata": {},
   "outputs": [],
   "source": []
  },
  {
   "cell_type": "code",
   "execution_count": null,
   "metadata": {},
   "outputs": [],
   "source": []
  },
  {
   "cell_type": "code",
   "execution_count": 43,
   "metadata": {},
   "outputs": [],
   "source": [
    "# Draw two shapes onto a new image\n",
    "# Allow for the shapes to be transparent in order for their\n",
    "# colors to overlap\n",
    "\n",
    "img = Image.new('RGB', (300, 300), (255, 255, 255))\n",
    "draw = ImageDraw.Draw(img, 'RGBA')\n",
    "draw.ellipse((50, 50, 200, 200), (255, 0, 0, 125))\n",
    "draw.ellipse((100, 100, 300, 300), (0, 255, 0, 125))\n",
    "draw.ellipse((0, 0, 100, 100), (0, 0, 255, 125))\n",
    "\n",
    "img.show()"
   ]
  },
  {
   "cell_type": "code",
   "execution_count": null,
   "metadata": {},
   "outputs": [],
   "source": []
  },
  {
   "cell_type": "code",
   "execution_count": 160,
   "metadata": {},
   "outputs": [],
   "source": [
    "# Develop a mechanism develop circles randomly onto a new image\n",
    "# such that a painting can be generated automatically\n",
    "\n",
    "# Old dataset, [<color>, <coordinates>, <radius>] = [(R,G,B,A), (x,y), r]\n",
    "\n",
    "# New dataset, [<color>, <coordinates>] = [(R,G,B,A), (x0, y0, x1, y1)]\n",
    "# the displacement between x0 -> x1 and y0 -> y1 must be equivalent\n",
    "\n",
    "width = 400\n",
    "height = 400\n",
    "\n",
    "RB = random.randint(0, 255)\n",
    "GB = random.randint(0, 255)\n",
    "BB = random.randint(0, 255)\n",
    "\n",
    "img = Image.new('RGB', (width, height), (255, 255, 255))\n",
    "draw = ImageDraw.Draw(img, 'RGBA')\n",
    "for _ in range(0, 1000):\n",
    "    R = random.randint(0, 255)\n",
    "    G = random.randint(0, 255)\n",
    "    B = random.randint(0, 255)\n",
    "    A = random.randint(0, 255)\n",
    "    \n",
    "    radius = random.randint(0, int(max(width / 3, height / 3)))\n",
    "    center = (random.randint(0, width), random.randint(0, height))\n",
    "\n",
    "    x0 = center[0] - radius\n",
    "    x1 = center[0] + radius\n",
    "    y0 = center[1] - radius\n",
    "    y1 = center[1] + radius\n",
    "    draw.ellipse((x0, y0, x1, y1), (R, G, B, A))\n",
    "\n",
    "img.show()"
   ]
  },
  {
   "cell_type": "code",
   "execution_count": null,
   "metadata": {},
   "outputs": [],
   "source": []
  },
  {
   "cell_type": "code",
   "execution_count": null,
   "metadata": {},
   "outputs": [],
   "source": []
  },
  {
   "cell_type": "code",
   "execution_count": 232,
   "metadata": {},
   "outputs": [],
   "source": [
    "# Create a population of random images and save them to test_images/\n",
    "\n",
    "width = 400\n",
    "height = 400\n",
    "\n",
    "for i in range(0, 50):\n",
    "    img = Image.new('RGB', (width, height), (255, 255, 255))\n",
    "    draw = ImageDraw.Draw(img, 'RGBA')\n",
    "    for _ in range(0, 500):\n",
    "        R = random.randint(0, 255)\n",
    "        G = random.randint(0, 255)\n",
    "        B = random.randint(0, 255)\n",
    "        A = random.randint(0, 255)\n",
    "\n",
    "        radius = random.randint(0, int(max(width / 3, height / 3)))\n",
    "        center = (random.randint(0, width), random.randint(0, height))\n",
    "\n",
    "        x0 = center[0] - radius\n",
    "        x1 = center[0] + radius\n",
    "        y0 = center[1] - radius\n",
    "        y1 = center[1] + radius\n",
    "        draw.ellipse((x0, y0, x1, y1), (R, G, B, A))\n",
    "\n",
    "    img.save('test_images/image{}.png'.format(i))"
   ]
  },
  {
   "cell_type": "code",
   "execution_count": null,
   "metadata": {},
   "outputs": [],
   "source": []
  },
  {
   "cell_type": "code",
   "execution_count": null,
   "metadata": {},
   "outputs": [],
   "source": []
  },
  {
   "cell_type": "code",
   "execution_count": 233,
   "metadata": {},
   "outputs": [
    {
     "data": {
      "text/plain": [
       "array([[ 88, 193, 127],\n",
       "       [ 88, 193, 127],\n",
       "       [ 88, 193, 127],\n",
       "       [ 88, 193, 127],\n",
       "       [ 88, 193, 127],\n",
       "       [ 88, 193, 127],\n",
       "       [ 88, 193, 127],\n",
       "       [ 88, 193, 127],\n",
       "       [ 88, 193, 127],\n",
       "       [ 88, 193, 127],\n",
       "       [ 88, 193, 127],\n",
       "       [ 88, 193, 127],\n",
       "       [ 88, 193, 127],\n",
       "       [ 88, 193, 127],\n",
       "       [ 88, 193, 127],\n",
       "       [ 88, 193, 127],\n",
       "       [ 88, 193, 127],\n",
       "       [ 88, 193, 127],\n",
       "       [ 88, 193, 127],\n",
       "       [ 87, 192, 127],\n",
       "       [ 87, 192, 127],\n",
       "       [ 87, 192, 127],\n",
       "       [ 87, 192, 127],\n",
       "       [ 87, 192, 127],\n",
       "       [ 87, 192, 127],\n",
       "       [ 87, 192, 127],\n",
       "       [ 87, 192, 127],\n",
       "       [ 87, 192, 127],\n",
       "       [ 87, 192, 127],\n",
       "       [ 87, 192, 127]])"
      ]
     },
     "execution_count": 233,
     "metadata": {},
     "output_type": "execute_result"
    }
   ],
   "source": [
    "# extract an image's data using a PIL function .getdata()\n",
    "\n",
    "img = Image.open('test_images/image1.png')\n",
    "img_data = np.array(Image.Image.getdata(img))\n",
    "img_data[:30]"
   ]
  },
  {
   "cell_type": "code",
   "execution_count": null,
   "metadata": {},
   "outputs": [],
   "source": []
  },
  {
   "cell_type": "code",
   "execution_count": 234,
   "metadata": {},
   "outputs": [
    {
     "name": "stdout",
     "output_type": "stream",
     "text": [
      "Elapsed time: 0.3101639747619629 sec\n",
      "Image 3 is more fit to image 1 than image 2.\n"
     ]
    }
   ],
   "source": [
    "# Create a pseudo-fitness test program by combining this notebook with\n",
    "# the np_fitness_test notebook\n",
    "# Let img1 be the target image\n",
    "# Compare images 2 and 3 to see which is more fit compared to the target\n",
    "\n",
    "start = time.time()\n",
    "\n",
    "target = Image.open('test_images/image1.png')\n",
    "target_data = np.array(Image.Image.getdata(target))\n",
    "\n",
    "img2 = Image.open('test_images/image2.png')\n",
    "img2_data = np.array(Image.Image.getdata(img2))\n",
    "\n",
    "img3 = Image.open('test_images/image3.png')\n",
    "img3_data = np.array(Image.Image.getdata(img3))\n",
    "\n",
    "fitness1 = 255 - np.abs(img2_data - target_data)\n",
    "fitness1 = fitness1.sum(axis = 1) / 3\n",
    "fitness1 = fitness1.mean()\n",
    "\n",
    "fitness2 = 255 - np.abs(img3_data - target_data)\n",
    "fitness2 = fitness2.sum(axis = 1) / 3\n",
    "fitness2 = fitness2.mean()\n",
    "\n",
    "end = time.time()\n",
    "\n",
    "print(\"Elapsed time: {} sec\".format(end - start))\n",
    "\n",
    "if fitness2 > fitness1: print(\"Image 3 is more fit to image 1 than image 2.\")\n",
    "if fitness2 < fitness1: print(\"Image 2 is more fit to image 1 than image 3\")"
   ]
  },
  {
   "cell_type": "code",
   "execution_count": 235,
   "metadata": {},
   "outputs": [
    {
     "data": {
      "text/plain": [
       "198.0620375"
      ]
     },
     "execution_count": 235,
     "metadata": {},
     "output_type": "execute_result"
    }
   ],
   "source": [
    "fitness2"
   ]
  },
  {
   "cell_type": "code",
   "execution_count": 236,
   "metadata": {},
   "outputs": [
    {
     "data": {
      "text/plain": [
       "192.06260833333332"
      ]
     },
     "execution_count": 236,
     "metadata": {},
     "output_type": "execute_result"
    }
   ],
   "source": [
    "fitness1"
   ]
  },
  {
   "cell_type": "code",
   "execution_count": null,
   "metadata": {},
   "outputs": [],
   "source": []
  }
 ],
 "metadata": {
  "kernelspec": {
   "display_name": "proc_paintings_env",
   "language": "python",
   "name": "proc_paintings_env"
  },
  "language_info": {
   "codemirror_mode": {
    "name": "ipython",
    "version": 3
   },
   "file_extension": ".py",
   "mimetype": "text/x-python",
   "name": "python",
   "nbconvert_exporter": "python",
   "pygments_lexer": "ipython3",
   "version": "3.8.11"
  }
 },
 "nbformat": 4,
 "nbformat_minor": 4
}
