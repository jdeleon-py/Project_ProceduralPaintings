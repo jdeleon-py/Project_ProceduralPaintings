{
 "cells": [
  {
   "cell_type": "code",
   "execution_count": 1,
   "metadata": {},
   "outputs": [],
   "source": [
    "# numpy is a much faster means to traverse each pixel of an image\n",
    "# rather than just a regular list comprehension"
   ]
  },
  {
   "cell_type": "code",
   "execution_count": 2,
   "metadata": {},
   "outputs": [],
   "source": [
    "import numpy as np\n",
    "import random\n",
    "import time"
   ]
  },
  {
   "cell_type": "code",
   "execution_count": 3,
   "metadata": {},
   "outputs": [],
   "source": [
    "# Script test to compare list timing vs. numpy timing"
   ]
  },
  {
   "cell_type": "code",
   "execution_count": null,
   "metadata": {},
   "outputs": [],
   "source": []
  },
  {
   "cell_type": "code",
   "execution_count": 4,
   "metadata": {},
   "outputs": [
    {
     "name": "stdout",
     "output_type": "stream",
     "text": [
      "Elapsed time: 290.61114501953125 sec\n"
     ]
    }
   ],
   "source": [
    "# LIST TEST\n",
    "\n",
    "import numpy as np\n",
    "import random\n",
    "import time\n",
    "\n",
    "if __name__ == \"__main__\":\n",
    "    x = [[random.randint(0, 255), random.randint(0, 255), random.randint(0, 255)] for i in range(0, 50000000)]\n",
    "    y = [[random.randint(0, 255), random.randint(0, 255), random.randint(0, 255)] for i in range(0, 50000000)]\n",
    "    \n",
    "    start = time.time()\n",
    "\n",
    "    z = []\n",
    "    for index in range(0, len(x)):\n",
    "        z.append([255 - abs(x[index][0] - y[index][0]), 255 - abs(x[index][1] - y[index][1]), 255 - abs(x[index][2] - y[index][2])])\n",
    "    \n",
    "    for index in z:\n",
    "        index = sum(index) / 3\n",
    "    \n",
    "    end = time.time()\n",
    "    print(\"Elapsed time: {} sec\".format(end - start))"
   ]
  },
  {
   "cell_type": "code",
   "execution_count": 5,
   "metadata": {},
   "outputs": [
    {
     "name": "stdout",
     "output_type": "stream",
     "text": [
      "Elapsed time: 13.09274435043335 sec\n"
     ]
    }
   ],
   "source": [
    "# NUMPY TEST\n",
    "\n",
    "import numpy as np\n",
    "import random\n",
    "import time\n",
    "\n",
    "if __name__ == \"__main__\":\n",
    "    x = [[random.randint(0, 255), random.randint(0, 255), random.randint(0, 255)] for i in range(0, 50000000)]\n",
    "    y = [[random.randint(0, 255), random.randint(0, 255), random.randint(0, 255)] for i in range(0, 50000000)]\n",
    "\n",
    "    x = np.array(x)\n",
    "    y = np.array(y)\n",
    "\n",
    "    start = time.time()\n",
    "\n",
    "    z = 255 - np.abs(y - x)\n",
    "    z = z.sum(axis = 1) / 3\n",
    "\n",
    "    end = time.time()\n",
    "    print(\"Elapsed time: {} sec\".format(end - start))"
   ]
  },
  {
   "cell_type": "code",
   "execution_count": null,
   "metadata": {},
   "outputs": [],
   "source": []
  }
 ],
 "metadata": {
  "kernelspec": {
   "display_name": "proc_paintings_env",
   "language": "python",
   "name": "proc_paintings_env"
  },
  "language_info": {
   "codemirror_mode": {
    "name": "ipython",
    "version": 3
   },
   "file_extension": ".py",
   "mimetype": "text/x-python",
   "name": "python",
   "nbconvert_exporter": "python",
   "pygments_lexer": "ipython3",
   "version": "3.8.11"
  }
 },
 "nbformat": 4,
 "nbformat_minor": 4
}
