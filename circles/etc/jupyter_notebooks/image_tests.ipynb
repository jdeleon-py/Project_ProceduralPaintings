{
 "cells": [
  {
   "cell_type": "code",
   "execution_count": 2,
   "metadata": {},
   "outputs": [],
   "source": [
    "import random\n",
    "import imgcompare\n",
    "from PIL import Image, ImageDraw\n",
    "import numpy as np"
   ]
  },
  {
   "cell_type": "code",
   "execution_count": null,
   "metadata": {},
   "outputs": [],
   "source": []
  },
  {
   "cell_type": "code",
   "execution_count": null,
   "metadata": {},
   "outputs": [],
   "source": [
    "# TESTS:\n",
    "# - test the RGB -> RGBA conversion and how it affects pixel coordinates\n",
    "# - place more transparent shapes OR larger shapes towards the back of the canvas"
   ]
  },
  {
   "cell_type": "code",
   "execution_count": null,
   "metadata": {},
   "outputs": [],
   "source": []
  },
  {
   "cell_type": "code",
   "execution_count": null,
   "metadata": {},
   "outputs": [],
   "source": [
    "# make an image with a circle directly in the middle\n",
    "\n",
    "if __name__ == \"__main__\":\n",
    "    HEIGHT, WIDTH = 400, 400\n",
    "    CENTER = (WIDTH / 2, HEIGHT / 2)\n",
    "    RADIUS = 50\n",
    "\n",
    "    X0 = CENTER[0] - RADIUS # 180 deg position\n",
    "    X1 = CENTER[0] + RADIUS #   0 deg position\n",
    "    Y0 = CENTER[1] - RADIUS # 270 deg position\n",
    "    Y1 = CENTER[1] + RADIUS #  90 deg position\n",
    "\n",
    "    img = Image.new('RGB', (WIDTH, HEIGHT), (255, 255, 255))\n",
    "    tool = ImageDraw.Draw(img, 'RGBA')\n",
    "    tool.ellipse((X0, Y0, X1, Y1), (0, 54, 168, 120))\n",
    "    img.show()"
   ]
  },
  {
   "cell_type": "code",
   "execution_count": null,
   "metadata": {},
   "outputs": [],
   "source": [
    "img = img.convert('RGB')\n",
    "data = list(Image.Image.getdata(img))\n",
    "print(\"{}\".format(set(data)))"
   ]
  },
  {
   "cell_type": "code",
   "execution_count": null,
   "metadata": {},
   "outputs": [],
   "source": [
    "if __name__ == \"__main__\":\n",
    "    HEIGHT, WIDTH = 400, 400\n",
    "\n",
    "    img_ref = Image.new('RGB', (WIDTH, HEIGHT), (135, 160, 214))\n",
    "    img_ref.show()\n",
    "    \n",
    "    img_input = Image.new('RGB', (WIDTH, HEIGHT), (111, 50, 255))\n",
    "    img_input.show()\n",
    "    \n",
    "    print(\"Similarity: {}%\".format(100 - imgcompare.image_diff_percent(img_input, img_ref)))"
   ]
  },
  {
   "cell_type": "code",
   "execution_count": null,
   "metadata": {},
   "outputs": [],
   "source": []
  },
  {
   "cell_type": "code",
   "execution_count": null,
   "metadata": {},
   "outputs": [],
   "source": [
    "# Does the placement order of a shape affect the painting's overall fitness?"
   ]
  },
  {
   "cell_type": "code",
   "execution_count": null,
   "metadata": {},
   "outputs": [],
   "source": [
    "'''Placing the larger, more opaque shape on the canvas first increases the fitness.'''\n",
    "\n",
    "if __name__ == \"__main__\":\n",
    "    HEIGHT, WIDTH = 400, 400\n",
    "    CENTER = (WIDTH / 2, HEIGHT / 2)\n",
    "    RADIUS1 = 250\n",
    "    RADIUS2 = 50\n",
    "\n",
    "    X0 = CENTER[0] - RADIUS1 # 180 deg position\n",
    "    X1 = CENTER[0] + RADIUS1 #   0 deg position\n",
    "    Y0 = CENTER[1] - RADIUS1 # 270 deg position\n",
    "    Y1 = CENTER[1] + RADIUS1 #  90 deg position\n",
    "    \n",
    "    X2 = CENTER[0] - RADIUS2\n",
    "    X3 = CENTER[0] + RADIUS2\n",
    "    Y2 = CENTER[1] - RADIUS2\n",
    "    Y3 = CENTER[1] + RADIUS2\n",
    "\n",
    "    '''The larger, more opaque shape is placed first.'''\n",
    "    img1 = Image.new('RGB', (WIDTH, HEIGHT), (255, 255, 255))\n",
    "    tool = ImageDraw.Draw(img1, 'RGBA')\n",
    "    tool.ellipse((X0, Y0, X1, Y1), (0, 54, 168, 200))\n",
    "    tool.ellipse((X2, Y2, X3, Y3), (255, 255, 30, 100))\n",
    "    img1.show()\n",
    "    \n",
    "    '''The smaller, more transparent shape is placed first.'''\n",
    "    img2 = Image.new('RGB', (WIDTH, HEIGHT), (255, 255, 255))\n",
    "    tool = ImageDraw.Draw(img2, 'RGBA')\n",
    "    tool.ellipse((X2, Y2, X3, Y3), (255, 255, 30, 100))\n",
    "    tool.ellipse((X0, Y0, X1, Y1), (0, 54, 168, 200))\n",
    "    img2.show()\n",
    "\n",
    "    img_ref = Image.new('RGB', (WIDTH, HEIGHT), (255, 255, 255))\n",
    "\n",
    "    print(\"Similarity between ref and img1: {}%\".format(100 - imgcompare.image_diff_percent(img1, img_ref)))\n",
    "    print(\"Similarity between ref and img2: {}%\".format(100 - imgcompare.image_diff_percent(img2, img_ref)))"
   ]
  },
  {
   "cell_type": "code",
   "execution_count": null,
   "metadata": {},
   "outputs": [],
   "source": [
    "'''Placing the larger, more transparent shape on the canvas first increases the fitness.'''\n",
    "\n",
    "if __name__ == \"__main__\":\n",
    "    HEIGHT, WIDTH = 400, 400\n",
    "    CENTER = (WIDTH / 2, HEIGHT / 2)\n",
    "    RADIUS1 = 250\n",
    "    RADIUS2 = 50\n",
    "\n",
    "    X0 = CENTER[0] - RADIUS1 # 180 deg position\n",
    "    X1 = CENTER[0] + RADIUS1 #   0 deg position\n",
    "    Y0 = CENTER[1] - RADIUS1 # 270 deg position\n",
    "    Y1 = CENTER[1] + RADIUS1 #  90 deg position\n",
    "    \n",
    "    X2 = CENTER[0] - RADIUS2\n",
    "    X3 = CENTER[0] + RADIUS2\n",
    "    Y2 = CENTER[1] - RADIUS2\n",
    "    Y3 = CENTER[1] + RADIUS2\n",
    "\n",
    "    '''The larger, more transparent shape is placed first.'''\n",
    "    img1 = Image.new('RGB', (WIDTH, HEIGHT), (255, 255, 255))\n",
    "    tool = ImageDraw.Draw(img1, 'RGBA')\n",
    "    tool.ellipse((X0, Y0, X1, Y1), (0, 54, 168, 100))\n",
    "    tool.ellipse((X2, Y2, X3, Y3), (255, 255, 30, 200))\n",
    "    img1.show()\n",
    "    \n",
    "    '''The smaller, more opaque shape is placed first.'''\n",
    "    img2 = Image.new('RGB', (WIDTH, HEIGHT), (255, 255, 255))\n",
    "    tool = ImageDraw.Draw(img2, 'RGBA')\n",
    "    tool.ellipse((X2, Y2, X3, Y3), (255, 255, 30, 200))\n",
    "    tool.ellipse((X0, Y0, X1, Y1), (0, 54, 168, 100))\n",
    "    img2.show()\n",
    "\n",
    "    img_ref = Image.new('RGB', (WIDTH, HEIGHT), (255, 255, 255))\n",
    "\n",
    "    print(\"Similarity between ref and img1: {}%\".format(100 - imgcompare.image_diff_percent(img1, img_ref)))\n",
    "    print(\"Similarity between ref and img2: {}%\".format(100 - imgcompare.image_diff_percent(img2, img_ref)))"
   ]
  },
  {
   "cell_type": "code",
   "execution_count": null,
   "metadata": {},
   "outputs": [],
   "source": [
    "# Conclusion: Shape placement order affects the fitness of the overall painting.\n",
    "# The difference between fitnesses is not that significant, but the resultant color difference\n",
    "# from the overlap is visibly significant, which may play a role in the evolution of a painting.\n",
    "# From these limited tests above, larger shapes ought to be placed on the canvas first.\n",
    "\n",
    "# The next step of this test is to compare four benchmark genetic algorithms with \n",
    "# differences in shape placement orders.\n",
    "# - larger, more transparent shapes take precedence\n",
    "# - smaller, more transparent shapes take precedence\n",
    "# - larger, more opaque shapes take precedence\n",
    "# - smaller, more opaque shapes take precedence\n",
    "# This test will show which combination of shape size and shape opacity will \n",
    "# produce the best fitness within a defined number of generations.\n",
    "# Which combination will converge the fastest?"
   ]
  },
  {
   "cell_type": "code",
   "execution_count": null,
   "metadata": {},
   "outputs": [],
   "source": []
  },
  {
   "cell_type": "code",
   "execution_count": null,
   "metadata": {},
   "outputs": [],
   "source": []
  },
  {
   "cell_type": "code",
   "execution_count": 45,
   "metadata": {},
   "outputs": [],
   "source": [
    "# isolate r_fit, g_fit, and b_fit calculations\n",
    "\n",
    "if __name__ == \"__main__\":\n",
    "    HEIGHT, WIDTH = 400, 400\n",
    "    CENTER = (WIDTH / 2, HEIGHT / 2)\n",
    "    RADIUS1 = 250\n",
    "    RADIUS2 = 50\n",
    "\n",
    "    X0 = CENTER[0] - RADIUS1 # 180 deg position\n",
    "    X1 = CENTER[0] + RADIUS1 #   0 deg position\n",
    "    Y0 = CENTER[1] - RADIUS1 # 270 deg position\n",
    "    Y1 = CENTER[1] + RADIUS1 #  90 deg position\n",
    "    \n",
    "    X2 = CENTER[0] - RADIUS2\n",
    "    X3 = CENTER[0] + RADIUS2\n",
    "    Y2 = CENTER[1] - RADIUS2\n",
    "    Y3 = CENTER[1] + RADIUS2\n",
    "\n",
    "    '''The larger, more transparent shape is placed first.'''\n",
    "    img1 = Image.new('RGB', (WIDTH, HEIGHT), (255, 255, 255))\n",
    "    tool = ImageDraw.Draw(img1, 'RGBA')\n",
    "    #tool.ellipse((X0, Y0, X1, Y1), (0, 54, 168, 100))\n",
    "    tool.ellipse((X2, Y2, X3, Y3), (254, 255, 30, 200))\n",
    "    \n",
    "    img_ref = Image.new('RGB', (WIDTH, HEIGHT), (255, 255, 255))"
   ]
  },
  {
   "cell_type": "code",
   "execution_count": 46,
   "metadata": {},
   "outputs": [],
   "source": [
    "data = np.array(Image.Image.getdata(img1))\n",
    "ref_data = np.array(Image.Image.getdata(img_ref))"
   ]
  },
  {
   "cell_type": "code",
   "execution_count": 47,
   "metadata": {},
   "outputs": [],
   "source": [
    "r_data = data[:,0]\n",
    "r_ref_data = ref_data[:,0]"
   ]
  },
  {
   "cell_type": "code",
   "execution_count": 48,
   "metadata": {},
   "outputs": [
    {
     "data": {
      "text/plain": [
       "254.94996875"
      ]
     },
     "execution_count": 48,
     "metadata": {},
     "output_type": "execute_result"
    }
   ],
   "source": [
    "255 - np.mean(np.abs(r_data - r_ref_data))"
   ]
  },
  {
   "cell_type": "code",
   "execution_count": 49,
   "metadata": {},
   "outputs": [],
   "source": [
    "img1.show()"
   ]
  },
  {
   "cell_type": "code",
   "execution_count": 32,
   "metadata": {},
   "outputs": [
    {
     "data": {
      "text/plain": [
       "array([255, 255, 255, ..., 255, 255, 255])"
      ]
     },
     "execution_count": 32,
     "metadata": {},
     "output_type": "execute_result"
    }
   ],
   "source": [
    "r_ref_data"
   ]
  },
  {
   "cell_type": "code",
   "execution_count": 35,
   "metadata": {},
   "outputs": [
    {
     "data": {
      "text/plain": [
       "array([255, 255, 255, 255, 255, 255, 255, 255, 255, 255, 255, 255, 255,\n",
       "       255, 255, 255, 255, 255, 255, 255, 255, 255, 255, 255, 255, 255,\n",
       "       255, 255, 255, 255, 255, 255, 255, 255, 255, 255, 255, 255, 255,\n",
       "       255, 255, 255, 255, 255, 255, 255, 255, 255, 255, 255, 155, 155,\n",
       "       155, 155, 155, 155, 155, 155, 155, 155, 155, 155, 155, 155, 155,\n",
       "       155, 155, 155, 155, 155, 155, 155, 155, 155, 155, 155, 155, 155,\n",
       "       155, 155, 155, 155, 155, 155, 155, 155, 155, 155, 155, 155, 155,\n",
       "       155, 155, 155, 155, 155, 155, 155, 155, 155])"
      ]
     },
     "execution_count": 35,
     "metadata": {},
     "output_type": "execute_result"
    }
   ],
   "source": [
    "r_data[:100]"
   ]
  },
  {
   "cell_type": "code",
   "execution_count": null,
   "metadata": {},
   "outputs": [],
   "source": []
  }
 ],
 "metadata": {
  "kernelspec": {
   "display_name": "proc_paintings_env",
   "language": "python",
   "name": "proc_paintings_env"
  },
  "language_info": {
   "codemirror_mode": {
    "name": "ipython",
    "version": 3
   },
   "file_extension": ".py",
   "mimetype": "text/x-python",
   "name": "python",
   "nbconvert_exporter": "python",
   "pygments_lexer": "ipython3",
   "version": "3.8.11"
  }
 },
 "nbformat": 4,
 "nbformat_minor": 4
}
